{
 "cells": [
  {
   "cell_type": "markdown",
   "metadata": {},
   "source": [
    "1.Write a Python program to subtract five days from current date."
   ]
  },
  {
   "cell_type": "code",
   "execution_count": 7,
   "metadata": {},
   "outputs": [
    {
     "name": "stdout",
     "output_type": "stream",
     "text": [
      "Current date: 2025-02-09\n",
      "New date: 2025-02-04\n"
     ]
    }
   ],
   "source": [
    "import datetime\n",
    "\n",
    "current_date = datetime.date.today()\n",
    "\n",
    "new_date = current_date - datetime.timedelta(days=5)\n",
    "\n",
    "print(\"Current date:\", current_date)\n",
    "print(\"New date:\", new_date)"
   ]
  },
  {
   "cell_type": "markdown",
   "metadata": {},
   "source": [
    "2.Write a Python program to print yesterday, today, tomorrow."
   ]
  },
  {
   "cell_type": "code",
   "execution_count": 8,
   "metadata": {},
   "outputs": [
    {
     "name": "stdout",
     "output_type": "stream",
     "text": [
      "Today is: 2025-02-09\n",
      "Yesterday was: 2025-02-08\n",
      "Tomorrow will be: 2025-02-10\n"
     ]
    }
   ],
   "source": [
    "import datetime\n",
    "\n",
    "today = datetime.date.today()\n",
    "\n",
    "yesterday = today - datetime.timedelta(days=1)\n",
    "\n",
    "tomorrow = today + datetime.timedelta(days=1)\n",
    "\n",
    "print(\"Today is:\", today)\n",
    "print(\"Yesterday was:\", yesterday)\n",
    "print(\"Tomorrow will be:\",tomorrow)"
   ]
  },
  {
   "cell_type": "markdown",
   "metadata": {},
   "source": [
    "3.Write a Python program to drop microseconds from datetime."
   ]
  },
  {
   "cell_type": "code",
   "execution_count": 9,
   "metadata": {},
   "outputs": [
    {
     "name": "stdout",
     "output_type": "stream",
     "text": [
      "Data with microseconds: 2025-02-09 20:59:55.085602\n",
      "Data without microseconds: 2025-02-09 20:59:55\n"
     ]
    }
   ],
   "source": [
    "import datetime\n",
    "\n",
    "today_with_ms = datetime.datetime.now()\n",
    "today_without_ms = today_with_ms.replace(microsecond = 0)\n",
    "\n",
    "\n",
    "print(\"Data with microseconds:\", today_with_ms)\n",
    "print(\"Data without microseconds:\", today_without_ms)"
   ]
  },
  {
   "cell_type": "markdown",
   "metadata": {},
   "source": [
    "4.Write a Python program to calculate two date difference in seconds."
   ]
  },
  {
   "cell_type": "code",
   "execution_count": 10,
   "metadata": {},
   "outputs": [
    {
     "name": "stdout",
     "output_type": "stream",
     "text": [
      "The difference between 2025-03-04 16:00:05 and 2028-12-06 20:00:09 is 118641604.0 seconds.\n"
     ]
    }
   ],
   "source": [
    "import datetime\n",
    "\n",
    "start_str = input(\"Enter the start date and time (YYYY-MM-DD HH:MM:SS): \")\n",
    "start_date = datetime.datetime.strptime(start_str, \"%Y-%m-%d %H:%M:%S\")\n",
    "\n",
    "end_str = input(\"Enter the end date and time (YYYY-MM-DD HH:MM:SS): \")\n",
    "end_date = datetime.datetime.strptime(end_str, \"%Y-%m-%d %H:%M:%S\")\n",
    "\n",
    "time_diff = (end_date - start_date).total_seconds()\n",
    "\n",
    "print(\"The difference between\", start_date, \"and\", end_date, \"is\", time_diff, \"seconds.\")"
   ]
  }
 ],
 "metadata": {
  "kernelspec": {
   "display_name": "Python 3",
   "language": "python",
   "name": "python3"
  },
  "language_info": {
   "codemirror_mode": {
    "name": "ipython",
    "version": 3
   },
   "file_extension": ".py",
   "mimetype": "text/x-python",
   "name": "python",
   "nbconvert_exporter": "python",
   "pygments_lexer": "ipython3",
   "version": "3.9.6"
  }
 },
 "nbformat": 4,
 "nbformat_minor": 2
}
