{
 "cells": [
  {
   "cell_type": "markdown",
   "metadata": {},
   "source": [
    "1.A recipe you are reading states how many grams you need for the ingredient. Unfortunately, your store only sells items in ounces. Create a function to convert grams to ounces. ounces = 28.3495231 * grams"
   ]
  },
  {
   "cell_type": "code",
   "execution_count": null,
   "metadata": {},
   "outputs": [
    {
     "name": "stdout",
     "output_type": "stream",
     "text": [
      "0.10582010582010581\n"
     ]
    }
   ],
   "source": [
    "def gramstoounces():\n",
    "    while True:\n",
    "        try:\n",
    "            grams = float(input(\"gram = \"))\n",
    "            ounce = grams/28.35\n",
    "            print(ounce)\n",
    "        except ValueError:\n",
    "            print(\"Error\")\n",
    "gramstoounces()"
   ]
  },
  {
   "cell_type": "markdown",
   "metadata": {},
   "source": [
    "2.Read in a Fahrenheit temperature. Calculate and display the equivalent centigrade temperature. The following formula is used for the conversion: C = (5 / 9) * (F – 32)"
   ]
  },
  {
   "cell_type": "code",
   "execution_count": 3,
   "metadata": {},
   "outputs": [
    {
     "name": "stdout",
     "output_type": "stream",
     "text": [
      "9.0°F = -12.78°C\n"
     ]
    }
   ],
   "source": [
    "def fahrenheit_to_celsius():\n",
    "    try:\n",
    "        fahrenheit = float(input())\n",
    "        celsius = (5 / 9) * (fahrenheit - 32)\n",
    "        print(f\"{fahrenheit}°F = {celsius:.2f}°C\")\n",
    "    except ValueError:\n",
    "        print(\"Error! Write correctly!\")\n",
    "fahrenheit_to_celsius()"
   ]
  },
  {
   "cell_type": "markdown",
   "metadata": {},
   "source": [
    "3.Write a program to solve a classic puzzle: We count 35 heads and 94 legs among the chickens and rabbits in a farm. How many rabbits and how many chickens do we have? create function: solve(numheads, numlegs):"
   ]
  },
  {
   "cell_type": "code",
   "execution_count": 4,
   "metadata": {},
   "outputs": [
    {
     "name": "stdout",
     "output_type": "stream",
     "text": [
      "Кур: 23, Кроликов: 12\n"
     ]
    }
   ],
   "source": [
    "def solve(numheads, numlegs):\n",
    "    rabbits = (numlegs - 2 * numheads) // 2\n",
    "    chickens = numheads - rabbits\n",
    "    return chickens, rabbits\n",
    "numheads = 35\n",
    "numlegs = 94\n",
    "chickens, rabbits = solve(numheads, numlegs)\n",
    "print(f\"Кур: {chickens}, Кроликов: {rabbits}\")"
   ]
  },
  {
   "cell_type": "markdown",
   "metadata": {},
   "source": [
    "4.You are given list of numbers separated by spaces. Write a function filter_prime which will take list of numbers as an agrument and returns only prime numbers from the list."
   ]
  },
  {
   "cell_type": "code",
   "execution_count": 5,
   "metadata": {},
   "outputs": [
    {
     "name": "stdout",
     "output_type": "stream",
     "text": [
      "[2, 3, 5, 7, 11]\n"
     ]
    }
   ],
   "source": [
    "def is_prime(n):\n",
    "    if n < 2:\n",
    "        return False\n",
    "    for i in range(2, int(n ** 0.5) + 1):\n",
    "        if n % i == 0:\n",
    "            return False\n",
    "    return True\n",
    "\n",
    "def filter_prime(numbers):\n",
    "    return [num for num in numbers if is_prime(num)]\n",
    "\n",
    "numbers = list(map(int, input(\"Enter numbers: \").split()))\n",
    "print(filter_prime(numbers))"
   ]
  },
  {
   "cell_type": "markdown",
   "metadata": {},
   "source": [
    "5.Write a function that accepts string from user and print all permutations of that string."
   ]
  },
  {
   "cell_type": "code",
   "execution_count": 6,
   "metadata": {},
   "outputs": [
    {
     "name": "stdout",
     "output_type": "stream",
     "text": [
      "abc\n",
      "acb\n",
      "bac\n",
      "bca\n",
      "cab\n",
      "cba\n"
     ]
    }
   ],
   "source": [
    "from itertools import permutations\n",
    "\n",
    "def print_permutations(s):\n",
    "    perms = [''.join(p) for p in permutations(s)]\n",
    "    for perm in perms:\n",
    "        print(perm)\n",
    "user_input = input(\"Enter a string: \")\n",
    "print_permutations(user_input)"
   ]
  },
  {
   "cell_type": "markdown",
   "metadata": {},
   "source": [
    "6.Write a function that accepts string from user, return a sentence with the words reversed. We are ready -> ready are We"
   ]
  },
  {
   "cell_type": "code",
   "execution_count": 7,
   "metadata": {},
   "outputs": [
    {
     "name": "stdout",
     "output_type": "stream",
     "text": [
      "we are ready\n"
     ]
    }
   ],
   "source": [
    "def reverse_words(sentence):\n",
    "    return ' '.join(sentence.split()[::-1])\n",
    "user_input = input(\"Enter a sentence: \")\n",
    "print(reverse_words(user_input))"
   ]
  },
  {
   "cell_type": "markdown",
   "metadata": {},
   "source": [
    "7.Given a list of ints, return True if the array contains a 3 next to a 3 somewhere."
   ]
  },
  {
   "cell_type": "code",
   "execution_count": 8,
   "metadata": {},
   "outputs": [
    {
     "name": "stdout",
     "output_type": "stream",
     "text": [
      "True\n",
      "False\n",
      "False\n"
     ]
    }
   ],
   "source": [
    "def has_33(nums):\n",
    "    for i in range(len(nums) - 1):\n",
    "        if nums[i] == 3 and nums[i + 1] == 3:\n",
    "            return True\n",
    "    return False\n",
    "print(has_33([1, 3, 3]))  \n",
    "print(has_33([1, 3, 1, 3]))  \n",
    "print(has_33([3, 1, 3]))  "
   ]
  },
  {
   "cell_type": "markdown",
   "metadata": {},
   "source": [
    "8.Write a function that computes the volume of a sphere given its radius"
   ]
  },
  {
   "cell_type": "code",
   "execution_count": 12,
   "metadata": {},
   "outputs": [
    {
     "name": "stdout",
     "output_type": "stream",
     "text": [
      "3053.6280592892786\n"
     ]
    }
   ],
   "source": [
    "import math\n",
    "\n",
    "def sphere_volume(radius):\n",
    "    return (4/3) * math.pi * (radius ** 3)\n",
    "\n",
    "radius = float(input())\n",
    "print( sphere_volume(radius))"
   ]
  },
  {
   "cell_type": "markdown",
   "metadata": {},
   "source": [
    "9.Write a Python function that takes a list and returns a new list with unique elements of the first list. Note: don't use collection set."
   ]
  },
  {
   "cell_type": "code",
   "execution_count": 13,
   "metadata": {},
   "outputs": [
    {
     "name": "stdout",
     "output_type": "stream",
     "text": [
      "[1, 2, 3, 4, 5, 6]\n"
     ]
    }
   ],
   "source": [
    "def get_unique_elements(lst):\n",
    "    unique_lst = []\n",
    "    for item in lst:\n",
    "        if item not in unique_lst:\n",
    "            unique_lst.append(item)\n",
    "    return unique_lst\n",
    "lst = [1,2,2,2,3,4,5,5,6]\n",
    "print(get_unique_elements(lst))"
   ]
  },
  {
   "cell_type": "markdown",
   "metadata": {},
   "source": [
    "10.Write a Python function that checks whether a word or phrase is palindrome or not. Note: A palindrome is word, phrase, or sequence that reads the same backward as forward, e.g., madam"
   ]
  },
  {
   "cell_type": "code",
   "execution_count": 14,
   "metadata": {},
   "outputs": [
    {
     "name": "stdout",
     "output_type": "stream",
     "text": [
      "False\n"
     ]
    }
   ],
   "source": [
    "def is_palindrome(word):\n",
    "    reversed_word = \"\"\n",
    "    for i in range(1,len(word)+1):\n",
    "        reversed_word += word[-i]\n",
    "\n",
    "    if word == reversed_word:\n",
    "        return True\n",
    "    else:\n",
    "        return False\n",
    "    \n",
    "\n",
    "print(is_palindrome(str(input(f'Enter any word: '))))"
   ]
  },
  {
   "cell_type": "markdown",
   "metadata": {},
   "source": [
    "11.Define a functino histogram() that takes a list of integers and prints a histogram to the screen. For example, histogram([4, 9, 7]) should print the following:"
   ]
  },
  {
   "cell_type": "code",
   "execution_count": 15,
   "metadata": {},
   "outputs": [
    {
     "name": "stdout",
     "output_type": "stream",
     "text": [
      "****\n",
      "*********\n",
      "*******\n"
     ]
    }
   ],
   "source": [
    "def histogram(nums):\n",
    "    for num in nums:\n",
    "        print('*' * num)\n",
    "        \n",
    "histogram([4, 9, 7])"
   ]
  },
  {
   "cell_type": "markdown",
   "metadata": {},
   "source": [
    "12.Write a program able to play the \"Guess the number\" - game, where the number to be guessed is randomly chosen between 1 and 20. This is how it should work when run in a terminal:"
   ]
  },
  {
   "cell_type": "code",
   "execution_count": 16,
   "metadata": {},
   "outputs": [
    {
     "name": "stdout",
     "output_type": "stream",
     "text": [
      "Hello! What is your name?\n",
      "Well, Arai, I am thinking of a number between 1 and 20.\n",
      "Take a guess.\n",
      "Your guess is too low.\n",
      "Take a guess.\n",
      "Your guess is too high.\n",
      "Take a guess.\n",
      "Good job, Arai! You guessed my number in 3 guesses!\n"
     ]
    }
   ],
   "source": [
    "import random\n",
    "\n",
    "def guess_the_number():\n",
    "    print(\"Hello! What is your name?\")\n",
    "    name = input()\n",
    "    number = random.randint(1, 20)\n",
    "    print(f\"Well, {name}, I am thinking of a number between 1 and 20.\")\n",
    "    guess_count = 0\n",
    "\n",
    "    while True:\n",
    "        print(\"Take a guess.\")\n",
    "        guess = int(input())\n",
    "        guess_count += 1\n",
    "        \n",
    "        if guess < number:\n",
    "            print(\"Your guess is too low.\")\n",
    "        elif guess > number:\n",
    "            print(\"Your guess is too high.\")\n",
    "        else:\n",
    "            print(f\"Good job, {name}! You guessed my number in {guess_count} guesses!\")\n",
    "            break\n",
    "\n",
    "guess_the_number()"
   ]
  },
  {
   "cell_type": "markdown",
   "metadata": {},
   "source": [
    "13.Write a function that takes in a list of integers and returns True if it contains 007 in order"
   ]
  },
  {
   "cell_type": "code",
   "execution_count": 17,
   "metadata": {},
   "outputs": [
    {
     "name": "stdout",
     "output_type": "stream",
     "text": [
      "True\n",
      "True\n",
      "False\n"
     ]
    }
   ],
   "source": [
    "def spy_game(nums):\n",
    "    sequence = [0, 0, 7]\n",
    "    idx = 0\n",
    "    \n",
    "    for num in nums:\n",
    "        if num == sequence[idx]:\n",
    "            idx += 1\n",
    "        if idx == len(sequence):\n",
    "            return True\n",
    "            \n",
    "    return False\n",
    "\n",
    "print(spy_game([1, 2, 4, 0, 0, 7, 5]))\n",
    "print(spy_game([1, 0, 2, 4, 0, 5, 7]))\n",
    "print(spy_game([1, 7, 2, 0, 4, 5, 0]))"
   ]
  }
 ],
 "metadata": {
  "kernelspec": {
   "display_name": "Python 3",
   "language": "python",
   "name": "python3"
  },
  "language_info": {
   "codemirror_mode": {
    "name": "ipython",
    "version": 3
   },
   "file_extension": ".py",
   "mimetype": "text/x-python",
   "name": "python",
   "nbconvert_exporter": "python",
   "pygments_lexer": "ipython3",
   "version": "3.9.6"
  }
 },
 "nbformat": 4,
 "nbformat_minor": 2
}
