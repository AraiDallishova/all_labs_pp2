{
 "cells": [
  {
   "cell_type": "markdown",
   "metadata": {},
   "source": [
    "1.Write a function that takes a single movie and returns True if its IMDB score is above 5.5"
   ]
  },
  {
   "cell_type": "code",
   "execution_count": 6,
   "metadata": {},
   "outputs": [
    {
     "name": "stdout",
     "output_type": "stream",
     "text": [
      "True\n"
     ]
    }
   ],
   "source": [
    "def is_imdb_above_5_5(movie):\n",
    "    return movie[\"imdb\"] > 5.5\n",
    "movie_example = {\n",
    "    \"name\": \"Usual Suspects\", \n",
    "    \"imdb\": 7.0,\n",
    "    \"category\": \"Thriller\"\n",
    "}\n",
    "print(is_imdb_above_5_5(movie_example))  "
   ]
  },
  {
   "cell_type": "markdown",
   "metadata": {},
   "source": [
    "2.Write a function that returns a sublist of movies with an IMDB score above 5.5."
   ]
  },
  {
   "cell_type": "code",
   "execution_count": 19,
   "metadata": {},
   "outputs": [
    {
     "name": "stdout",
     "output_type": "stream",
     "text": [
      "[{'name': 'Usual Suspects', 'imdb': 7.0, 'category': 'Thriller'}, {'name': 'Hitman', 'imdb': 6.3, 'category': 'Action'}, {'name': 'Dark Knight', 'imdb': 9.0, 'category': 'Adventure'}, {'name': 'The Help', 'imdb': 8.0, 'category': 'Drama'}, {'name': 'The Choice', 'imdb': 6.2, 'category': 'Romance'}, {'name': 'Colonia', 'imdb': 7.4, 'category': 'Romance'}, {'name': 'Love', 'imdb': 6.0, 'category': 'Romance'}, {'name': 'Joking muck', 'imdb': 7.2, 'category': 'Comedy'}, {'name': 'What is the name', 'imdb': 9.2, 'category': 'Suspense'}, {'name': 'Detective', 'imdb': 7.0, 'category': 'Suspense'}, {'name': 'We Two', 'imdb': 7.2, 'category': 'Romance'}]\n"
     ]
    }
   ],
   "source": [
    "movies = [\n",
    "{\n",
    "\"name\": \"Usual Suspects\", \n",
    "\"imdb\": 7.0,\n",
    "\"category\": \"Thriller\"\n",
    "},\n",
    "{\n",
    "\"name\": \"Hitman\",\n",
    "\"imdb\": 6.3,\n",
    "\"category\": \"Action\"\n",
    "},\n",
    "{\n",
    "\"name\": \"Dark Knight\",\n",
    "\"imdb\": 9.0,\n",
    "\"category\": \"Adventure\"\n",
    "},\n",
    "{\n",
    "\"name\": \"The Help\",\n",
    "\"imdb\": 8.0,\n",
    "\"category\": \"Drama\"\n",
    "},\n",
    "{\n",
    "\"name\": \"The Choice\",\n",
    "\"imdb\": 6.2,\n",
    "\"category\": \"Romance\"\n",
    "},\n",
    "{\n",
    "\"name\": \"Colonia\",\n",
    "\"imdb\": 7.4,\n",
    "\"category\": \"Romance\"\n",
    "},\n",
    "{\n",
    "\"name\": \"Love\",\n",
    "\"imdb\": 6.0,\n",
    "\"category\": \"Romance\"\n",
    "},\n",
    "{\n",
    "\"name\": \"Bride Wars\",\n",
    "\"imdb\": 5.4,\n",
    "\"category\": \"Romance\"\n",
    "},\n",
    "{\n",
    "\"name\": \"AlphaJet\",\n",
    "\"imdb\": 3.2,\n",
    "\"category\": \"War\"\n",
    "},\n",
    "{\n",
    "\"name\": \"Ringing Crime\",\n",
    "\"imdb\": 4.0,\n",
    "\"category\": \"Crime\"\n",
    "},\n",
    "{\n",
    "\"name\": \"Joking muck\",\n",
    "\"imdb\": 7.2,\n",
    "\"category\": \"Comedy\"\n",
    "},\n",
    "{\n",
    "\"name\": \"What is the name\",\n",
    "\"imdb\": 9.2,\n",
    "\"category\": \"Suspense\"\n",
    "},\n",
    "{\n",
    "\"name\": \"Detective\",\n",
    "\"imdb\": 7.0,\n",
    "\"category\": \"Suspense\"\n",
    "},\n",
    "{\n",
    "\"name\": \"Exam\",\n",
    "\"imdb\": 4.2,\n",
    "\"category\": \"Thriller\"\n",
    "},\n",
    "{\n",
    "\"name\": \"We Two\",\n",
    "\"imdb\": 7.2,\n",
    "\"category\": \"Romance\"\n",
    "}\n",
    "]\n",
    "\n",
    "\n",
    "def score(movies):\n",
    "    result = []\n",
    "    for movie in movies:\n",
    "        if movie[\"imdb\"] > 5.5:\n",
    "            result.append(movie)\n",
    "    return result\n",
    "\n",
    "\n",
    "print(score(movies))"
   ]
  },
  {
   "cell_type": "markdown",
   "metadata": {},
   "source": [
    "3.Write a function that takes a category name and returns just those movies under that category."
   ]
  },
  {
   "cell_type": "code",
   "execution_count": 20,
   "metadata": {},
   "outputs": [
    {
     "name": "stdout",
     "output_type": "stream",
     "text": [
      "[{'name': 'What is the name', 'imdb': 9.2, 'category': 'Suspense'}, {'name': 'Detective', 'imdb': 7.0, 'category': 'Suspense'}]\n"
     ]
    }
   ],
   "source": [
    "movies = [\n",
    "{\n",
    "\"name\": \"Usual Suspects\", \n",
    "\"imdb\": 7.0,\n",
    "\"category\": \"Thriller\"\n",
    "},\n",
    "{\n",
    "\"name\": \"Hitman\",\n",
    "\"imdb\": 6.3,\n",
    "\"category\": \"Action\"\n",
    "},\n",
    "{\n",
    "\"name\": \"Dark Knight\",\n",
    "\"imdb\": 9.0,\n",
    "\"category\": \"Adventure\"\n",
    "},\n",
    "{\n",
    "\"name\": \"The Help\",\n",
    "\"imdb\": 8.0,\n",
    "\"category\": \"Drama\"\n",
    "},\n",
    "{\n",
    "\"name\": \"The Choice\",\n",
    "\"imdb\": 6.2,\n",
    "\"category\": \"Romance\"\n",
    "},\n",
    "{\n",
    "\"name\": \"Colonia\",\n",
    "\"imdb\": 7.4,\n",
    "\"category\": \"Romance\"\n",
    "},\n",
    "{\n",
    "\"name\": \"Love\",\n",
    "\"imdb\": 6.0,\n",
    "\"category\": \"Romance\"\n",
    "},\n",
    "{\n",
    "\"name\": \"Bride Wars\",\n",
    "\"imdb\": 5.4,\n",
    "\"category\": \"Romance\"\n",
    "},\n",
    "{\n",
    "\"name\": \"AlphaJet\",\n",
    "\"imdb\": 3.2,\n",
    "\"category\": \"War\"\n",
    "},\n",
    "{\n",
    "\"name\": \"Ringing Crime\",\n",
    "\"imdb\": 4.0,\n",
    "\"category\": \"Crime\"\n",
    "},\n",
    "{\n",
    "\"name\": \"Joking muck\",\n",
    "\"imdb\": 7.2,\n",
    "\"category\": \"Comedy\"\n",
    "},\n",
    "{\n",
    "\"name\": \"What is the name\",\n",
    "\"imdb\": 9.2,\n",
    "\"category\": \"Suspense\"\n",
    "},\n",
    "{\n",
    "\"name\": \"Detective\",\n",
    "\"imdb\": 7.0,\n",
    "\"category\": \"Suspense\"\n",
    "},\n",
    "{\n",
    "\"name\": \"Exam\",\n",
    "\"imdb\": 4.2,\n",
    "\"category\": \"Thriller\"\n",
    "},\n",
    "{\n",
    "\"name\": \"We Two\",\n",
    "\"imdb\": 7.2,\n",
    "\"category\": \"Romance\"\n",
    "}\n",
    "]\n",
    "\n",
    "\n",
    "name=str(input(\"name:\"))\n",
    "def category(movies):\n",
    "    result = []\n",
    "    for movie in movies:  \n",
    "        if movie[\"category\"] == name:\n",
    "            result.append(movie)\n",
    "    return result\n",
    "\n",
    "\n",
    "print(category(movies))\n",
    "            \n",
    "    "
   ]
  },
  {
   "cell_type": "markdown",
   "metadata": {},
   "source": [
    "4.Write a function that takes a list of movies and computes the average IMDB score."
   ]
  },
  {
   "cell_type": "code",
   "execution_count": null,
   "metadata": {},
   "outputs": [],
   "source": [
    "movies = [\n",
    "    {\"name\": \"Usual Suspects\", \"imdb\": 7.0, \"category\": \"Thriller\"},\n",
    "    {\"name\": \"Hitman\", \"imdb\": 6.3, \"category\": \"Action\"},\n",
    "    {\"name\": \"Dark Knight\", \"imdb\": 9.0, \"category\": \"Adventure\"},\n",
    "    {\"name\": \"The Help\", \"imdb\": 8.0, \"category\": \"Drama\"},\n",
    "    {\"name\": \"The Choice\", \"imdb\": 6.2, \"category\": \"Romance\"},\n",
    "    {\"name\": \"Colonia\", \"imdb\": 7.4, \"category\": \"Romance\"},\n",
    "    {\"name\": \"Love\", \"imdb\": 6.0, \"category\": \"Romance\"},\n",
    "    {\"name\": \"Bride Wars\", \"imdb\": 5.4, \"category\": \"Romance\"},\n",
    "    {\"name\": \"AlphaJet\", \"imdb\": 3.2, \"category\": \"War\"},\n",
    "    {\"name\": \"Ringing Crime\", \"imdb\": 4.0, \"category\": \"Crime\"},\n",
    "    {\"name\": \"Joking muck\", \"imdb\": 7.2, \"category\": \"Comedy\"},\n",
    "    {\"name\": \"What is the name\", \"imdb\": 9.2, \"category\": \"Suspense\"},\n",
    "    {\"name\": \"Detective\", \"imdb\": 7.0, \"category\": \"Suspense\"},\n",
    "    {\"name\": \"Exam\", \"imdb\": 4.2, \"category\": \"Thriller\"},\n",
    "    {\"name\": \"We Two\", \"imdb\": 7.2, \"category\": \"Romance\"}\n",
    "]\n",
    "\n",
    "def imdbpoint(movies, names):\n",
    "    total = 0\n",
    "    count = 0\n",
    "    for movie in movies:\n",
    "        if movie[\"name\"] in names:\n",
    "            total += movie[\"imdb\"]\n",
    "            count += 1\n",
    "    return total / count if count > 0 else 0\n",
    "\n",
    "names = []\n",
    "while True:\n",
    "    name1 = input(\"Enter movie name (or 'done' to finish): \")\n",
    "    if name1.lower() == 'done':\n",
    "        break\n",
    "    names.append(name1)\n",
    "\n",
    "print(imdbpoint(movies, names))"
   ]
  },
  {
   "cell_type": "markdown",
   "metadata": {},
   "source": [
    "5.Write a function that takes a category and computes the average IMDB score."
   ]
  },
  {
   "cell_type": "code",
   "execution_count": 2,
   "metadata": {},
   "outputs": [
    {
     "name": "stdout",
     "output_type": "stream",
     "text": [
      "No movies found in this category.\n"
     ]
    }
   ],
   "source": [
    "movies = [\n",
    "    {\"name\": \"Usual Suspects\", \"imdb\": 7.0, \"category\": \"Thriller\"},\n",
    "    {\"name\": \"Hitman\", \"imdb\": 6.3, \"category\": \"Action\"},\n",
    "    {\"name\": \"Dark Knight\", \"imdb\": 9.0, \"category\": \"Adventure\"},\n",
    "    {\"name\": \"The Help\", \"imdb\": 8.0, \"category\": \"Drama\"},\n",
    "    {\"name\": \"The Choice\", \"imdb\": 6.2, \"category\": \"Romance\"},\n",
    "    {\"name\": \"Colonia\", \"imdb\": 7.4, \"category\": \"Romance\"},\n",
    "    {\"name\": \"Love\", \"imdb\": 6.0, \"category\": \"Romance\"},\n",
    "    {\"name\": \"Bride Wars\", \"imdb\": 5.4, \"category\": \"Romance\"},\n",
    "    {\"name\": \"AlphaJet\", \"imdb\": 3.2, \"category\": \"War\"},\n",
    "    {\"name\": \"Ringing Crime\", \"imdb\": 4.0, \"category\": \"Crime\"},\n",
    "    {\"name\": \"Joking muck\", \"imdb\": 7.2, \"category\": \"Comedy\"},\n",
    "    {\"name\": \"What is the name\", \"imdb\": 9.2, \"category\": \"Suspense\"},\n",
    "    {\"name\": \"Detective\", \"imdb\": 7.0, \"category\": \"Suspense\"},\n",
    "    {\"name\": \"Exam\", \"imdb\": 4.2, \"category\": \"Thriller\"},\n",
    "    {\"name\": \"We Two\", \"imdb\": 7.2, \"category\": \"Romance\"}\n",
    "]\n",
    "\n",
    "name = str(input(\"Category: \"))\n",
    "\n",
    "def imdbpoint(movies, name):\n",
    "    avg = 0\n",
    "    cnt = 0\n",
    "    for movie in movies:\n",
    "        if movie[\"category\"] == name:\n",
    "            avg += movie[\"imdb\"]\n",
    "            cnt += 1\n",
    "    if cnt > 0:\n",
    "        return avg / cnt\n",
    "    else:\n",
    "        return \"No movies found in this category.\"\n",
    "\n",
    "print(imdbpoint(movies, name))"
   ]
  }
 ],
 "metadata": {
  "kernelspec": {
   "display_name": "Python 3",
   "language": "python",
   "name": "python3"
  },
  "language_info": {
   "codemirror_mode": {
    "name": "ipython",
    "version": 3
   },
   "file_extension": ".py",
   "mimetype": "text/x-python",
   "name": "python",
   "nbconvert_exporter": "python",
   "pygments_lexer": "ipython3",
   "version": "3.9.6"
  }
 },
 "nbformat": 4,
 "nbformat_minor": 2
}
