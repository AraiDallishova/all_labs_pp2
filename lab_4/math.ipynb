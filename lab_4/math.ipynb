{
 "cells": [
  {
   "cell_type": "code",
   "execution_count": 2,
   "metadata": {},
   "outputs": [
    {
     "name": "stdout",
     "output_type": "stream",
     "text": [
      "Output radian: 0.977384\n"
     ]
    }
   ],
   "source": [
    "import math\n",
    "\n",
    "# 1. Convert degree to radian\n",
    "def degree_to_radian(degree):\n",
    "    return degree * (math.pi / 180)\n",
    "\n",
    "degree = float(input(\"Input degree: \"))\n",
    "print(\"Output radian:\", round(degree_to_radian(degree), 6))"
   ]
  },
  {
   "cell_type": "code",
   "execution_count": 3,
   "metadata": {},
   "outputs": [
    {
     "name": "stdout",
     "output_type": "stream",
     "text": [
      "Expected Output: 435.5\n"
     ]
    }
   ],
   "source": [
    "# 2. Calculate the area of a trapezoid\n",
    "def trapezoid_area(height, base1, base2):\n",
    "    return 0.5 * (base1 + base2) * height\n",
    "\n",
    "height = float(input(\"Height: \"))\n",
    "base1 = float(input(\"Base, first value: \"))\n",
    "base2 = float(input(\"Base, second value: \"))\n",
    "print(\"Expected Output:\", trapezoid_area(height, base1, base2))"
   ]
  },
  {
   "cell_type": "code",
   "execution_count": 4,
   "metadata": {},
   "outputs": [
    {
     "name": "stdout",
     "output_type": "stream",
     "text": [
      "The area of the polygon is: 15141.95\n"
     ]
    }
   ],
   "source": [
    "# 3. Calculate the area of a regular polygon\n",
    "def polygon_area(sides, length):\n",
    "    return (sides * length ** 2) / (4 * math.tan(math.pi / sides))\n",
    "\n",
    "sides = int(input(\"Input number of sides: \"))\n",
    "length = float(input(\"Input the length of a side: \"))\n",
    "print(\"The area of the polygon is:\", round(polygon_area(sides, length), 2))\n",
    "\n"
   ]
  },
  {
   "cell_type": "code",
   "execution_count": 5,
   "metadata": {},
   "outputs": [
    {
     "name": "stdout",
     "output_type": "stream",
     "text": [
      "Expected Output: 24.0\n"
     ]
    }
   ],
   "source": [
    "# 4. Calculate the area of a parallelogram\n",
    "def parallelogram_area(base, height):\n",
    "    return base * height\n",
    "\n",
    "base = float(input(\"Length of base: \"))\n",
    "height = float(input(\"Height of parallelogram: \"))\n",
    "print(\"Expected Output:\", parallelogram_area(base, height))"
   ]
  }
 ],
 "metadata": {
  "kernelspec": {
   "display_name": "Python 3",
   "language": "python",
   "name": "python3"
  },
  "language_info": {
   "codemirror_mode": {
    "name": "ipython",
    "version": 3
   },
   "file_extension": ".py",
   "mimetype": "text/x-python",
   "name": "python",
   "nbconvert_exporter": "python",
   "pygments_lexer": "ipython3",
   "version": "3.9.6"
  }
 },
 "nbformat": 4,
 "nbformat_minor": 2
}
