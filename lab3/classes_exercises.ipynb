{
 "cells": [
  {
   "cell_type": "markdown",
   "metadata": {},
   "source": [
    "1.Define a class which has at least two methods: getString: to get a string from console input printString: to print the string in upper case."
   ]
  },
  {
   "cell_type": "code",
   "execution_count": 1,
   "metadata": {},
   "outputs": [
    {
     "name": "stdout",
     "output_type": "stream",
     "text": [
      "ARAI\n"
     ]
    }
   ],
   "source": [
    "class String:\n",
    "    def __init__(self):\n",
    "        self.input_string = \"\"\n",
    "\n",
    "    def getString(self):\n",
    "        self.input_string = input(\"Enter a string: \")\n",
    "\n",
    "    def printString(self):\n",
    "        print(self.input_string.upper())\n",
    "\n",
    "my_string = String()\n",
    "my_string.getString()\n",
    "my_string.printString()"
   ]
  },
  {
   "cell_type": "markdown",
   "metadata": {},
   "source": [
    "2.Define a class named Shape and its subclass Square. The Square class has an init function which takes a length as argument. Both classes have a area function which can print the area of the shape where Shape's area is 0 by default."
   ]
  },
  {
   "cell_type": "code",
   "execution_count": 2,
   "metadata": {},
   "outputs": [
    {
     "name": "stdout",
     "output_type": "stream",
     "text": [
      "The area of the Square is: 16\n"
     ]
    }
   ],
   "source": [
    "class Shape:\n",
    "    def __init__(self):\n",
    "        self.name = \"Shape\"\n",
    "\n",
    "    def area(self):\n",
    "        return 0\n",
    "\n",
    "class Square(Shape):\n",
    "    def __init__(self, length):\n",
    "        super().__init__()\n",
    "        self.length = length\n",
    "        self.name = \"Square\"\n",
    "\n",
    "    def area(self):\n",
    "        return self.length ** 2\n",
    "\n",
    "square = Square(4)\n",
    "print(f\"The area of the {square.name} is: {square.area()}\")"
   ]
  },
  {
   "cell_type": "markdown",
   "metadata": {},
   "source": [
    "3.Define a class named Rectangle which inherits from Shape class from task 2. Class instance can be constructed by a length and width. The Rectangle class has a method which can compute the area."
   ]
  },
  {
   "cell_type": "code",
   "execution_count": 3,
   "metadata": {},
   "outputs": [
    {
     "name": "stdout",
     "output_type": "stream",
     "text": [
      "Area of the rectangle: 96.0\n"
     ]
    }
   ],
   "source": [
    "class Shape:\n",
    "    def area(self):\n",
    "        return 0\n",
    "class Rectangle():\n",
    "    def __init__(self, length, width):\n",
    "        self.length = length\n",
    "        self.width = width\n",
    "    def area(self):\n",
    "        return self.length * self.width\n",
    "    \n",
    "    \n",
    "length = float(input(\"Length: \"))\n",
    "width = float(input(\"Width: \"))\n",
    "area=Rectangle(length,width)\n",
    "print(\"Area of the rectangle:\",area.area())\n",
    "\n",
    "\n",
    "\n",
    "    "
   ]
  },
  {
   "cell_type": "markdown",
   "metadata": {},
   "source": [
    "4.Write the definition of a Point class. Objects from this class should have a\n",
    "\n",
    "a method show to display the coordinates of the point\n",
    "a method move to change these coordinates\n",
    "a method dist that computes the distance between 2 points"
   ]
  },
  {
   "cell_type": "code",
   "execution_count": 4,
   "metadata": {},
   "outputs": [
    {
     "name": "stdout",
     "output_type": "stream",
     "text": [
      "Coordinates: (76.0, 7.0)\n",
      "Coordinates: (8.0, 9.0)\n",
      "Distance between point1 and point2: 68.0294054067798\n"
     ]
    }
   ],
   "source": [
    "import math\n",
    "\n",
    "class Point:\n",
    "    def __init__(self,x,y):\n",
    "        self.x = x\n",
    "        self.y = y\n",
    "\n",
    "    def show(self):\n",
    "        print(f\"Coordinates: ({self.x}, {self.y})\")\n",
    "\n",
    "    def move(self, x1, y1):\n",
    "        self.x = x1\n",
    "        self.y = y1\n",
    "\n",
    "    def dist(self, point2):\n",
    "        dx = self.x - point2.x\n",
    "        dy = self.y - point2.y\n",
    "        distance = math.sqrt(dx**2 + dy**2)\n",
    "        return distance\n",
    "    \n",
    "    \n",
    "a=float(input(\"x:\"))\n",
    "b=float(input(\"y:\"))\n",
    "point1 = Point(a,b)\n",
    "point2 = Point(a,b)\n",
    "\n",
    "\n",
    "point1.show() \n",
    "k=float(input(\"x1:\"))\n",
    "p=float(input(\"y1:\"))\n",
    "point1.move(k,p)\n",
    "point1.show() \n",
    "\n",
    "\n",
    "distance = point1.dist(point2)\n",
    "print(f\"Distance between point1 and point2: {distance}\")"
   ]
  },
  {
   "cell_type": "markdown",
   "metadata": {},
   "source": [
    "5.Create a bank account class that has attributes owner, balance and two methods deposit and withdraw. Withdrawals may not exceed the available balance. Instantiate your class, make several deposits and withdrawals, and test to make sure the account can't be overdrawn."
   ]
  },
  {
   "cell_type": "code",
   "execution_count": 5,
   "metadata": {},
   "outputs": [
    {
     "name": "stdout",
     "output_type": "stream",
     "text": [
      "1000\n",
      "Michael\n",
      "You are deposit 1000 money\n",
      "insufficient funds\n",
      "you're balance: 0,  and you take 2000\n"
     ]
    }
   ],
   "source": [
    "class Bank():\n",
    "    def __init__(self, account, money):\n",
    "        self.money = money\n",
    "        self.account = account\n",
    "\n",
    "    def balance(self):\n",
    "        return self.money\n",
    "    \n",
    "    def owner(self):\n",
    "        return self.account\n",
    "    \n",
    "    def deposit(self, money):\n",
    "        self.money+=money\n",
    "\n",
    "        return f\"You are deposit {money} money\"\n",
    "    \n",
    "    def withdraw(self, money):\n",
    "        if self.money - money < 0:\n",
    "            return \"insufficient funds\"\n",
    "        else:\n",
    "            self.money-=money\n",
    "\n",
    "            return f\"you're balance: {self.money},  and you take {money}\"\n",
    "        \n",
    "        \n",
    "bank = Bank(\"Michael\", 1000)\n",
    "\n",
    "print(bank.balance())\n",
    "\n",
    "print(bank.owner())\n",
    "\n",
    "print(bank.deposit(1000))\n",
    "\n",
    "print(bank.withdraw(3000))\n",
    "\n",
    "print(bank.withdraw(2000))"
   ]
  },
  {
   "cell_type": "markdown",
   "metadata": {},
   "source": [
    "6.Write a program which can filter prime numbers in a list by using filter function. Note: Use lambda to define anonymous functions."
   ]
  },
  {
   "cell_type": "code",
   "execution_count": 2,
   "metadata": {},
   "outputs": [
    {
     "name": "stdout",
     "output_type": "stream",
     "text": [
      "[2, 3, 5]\n"
     ]
    }
   ],
   "source": [
    "class Prime:\n",
    "    def __init__(self, numbers):\n",
    "        self.numbers = numbers\n",
    "\n",
    "    def is_prime(self, num):\n",
    "        if num < 2:\n",
    "            return False\n",
    "        for i in range(2, int(num**0.5) + 1):\n",
    "            if num % i == 0:\n",
    "                return False\n",
    "        return True\n",
    "\n",
    "    def filter_prime_numbers(self):\n",
    "        return list(filter(lambda x: self.is_prime(x), self.numbers))\n",
    "\n",
    "\n",
    "n = int(input(\"n: \"))\n",
    "mylist = []\n",
    "for i in range(n):\n",
    "    number = int(input(\"number: \"))\n",
    "    mylist.append(number)\n",
    "\n",
    "\n",
    "prime_filter = Prime(mylist)\n",
    "print(prime_filter.filter_prime_numbers())"
   ]
  }
 ],
 "metadata": {
  "kernelspec": {
   "display_name": "Python 3",
   "language": "python",
   "name": "python3"
  },
  "language_info": {
   "codemirror_mode": {
    "name": "ipython",
    "version": 3
   },
   "file_extension": ".py",
   "mimetype": "text/x-python",
   "name": "python",
   "nbconvert_exporter": "python",
   "pygments_lexer": "ipython3",
   "version": "3.9.6"
  }
 },
 "nbformat": 4,
 "nbformat_minor": 2
}
