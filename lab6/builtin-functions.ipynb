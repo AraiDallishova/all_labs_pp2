{
 "cells": [
  {
   "cell_type": "code",
   "execution_count": null,
   "metadata": {},
   "outputs": [],
   "source": [
    "#1\n",
    "from functools import reduce\n",
    "\n",
    "def multiply_all_numbers(numbers):\n",
    "    return reduce(lambda x, y: x * y, numbers)\n",
    "\n",
    "numbers = [2, 3, 4, 5]\n",
    "result = multiply_all_numbers(numbers)\n",
    "print(f\"Product of all numbers: {result}\")"
   ]
  },
  {
   "cell_type": "code",
   "execution_count": null,
   "metadata": {},
   "outputs": [],
   "source": [
    "#2\n",
    "def count_letters(letter):\n",
    "    upper=0\n",
    "    lower=0\n",
    "    for i in letter:\n",
    "        if i>=\"A\" and i<=\"Z\":\n",
    "            upper+=1\n",
    "        elif i>=\"a\" and i<=\"z\":\n",
    "            lower+=1\n",
    "    print(\"sum upper case:\", upper)\n",
    "    print(\"sum lower case:\", lower)\n",
    "            \n",
    "        \n",
    "\n",
    "sentence=str(input(\"enter sentence:\"))\n",
    "count_letters(sentence)"
   ]
  },
  {
   "cell_type": "code",
   "execution_count": null,
   "metadata": {},
   "outputs": [],
   "source": [
    "#3\n",
    "def is_palindrome(s):\n",
    "    return s == s[::-1]\n",
    "\n",
    "input_string = str(input(\"Enter sentence: \"))\n",
    "if is_palindrome(input_string):\n",
    "    print(f\"{input_string} is a palindrome\")\n",
    "else:\n",
    "    print(f\"{input_string} is not a palindrome\")"
   ]
  },
  {
   "cell_type": "code",
   "execution_count": null,
   "metadata": {},
   "outputs": [],
   "source": [
    "#4\n",
    "import time\n",
    "import math\n",
    "\n",
    "def delayed_square_root(number, delay_ms):\n",
    "    time.sleep(delay_ms / 1000.0)\n",
    "    return math.sqrt(number)\n",
    "\n",
    "number = int(input(\"Enter number: \"))\n",
    "delay_ms = int(input(\"Enter delay ms: \"))\n",
    "result = delayed_square_root(number, delay_ms)\n",
    "print(f\"Square root of {number} after {delay_ms} milliseconds is {result}\")"
   ]
  },
  {
   "cell_type": "code",
   "execution_count": null,
   "metadata": {},
   "outputs": [],
   "source": [
    "#5\n",
    "numbers_input = input(\"Enter numbers separated by space: \")  \n",
    "my_tuple = tuple(map(int, numbers_input.split()))  \n",
    "\n",
    "print(all(my_tuple))"
   ]
  }
 ],
 "metadata": {
  "language_info": {
   "name": "python"
  }
 },
 "nbformat": 4,
 "nbformat_minor": 2
}
