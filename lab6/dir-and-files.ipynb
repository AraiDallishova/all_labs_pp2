{
 "cells": [
  {
   "cell_type": "code",
   "execution_count": null,
   "metadata": {},
   "outputs": [],
   "source": [
    "#1\n",
    "import os\n",
    "\n",
    "def list_contents(path):\n",
    "    print(\"\\nDirectories:\")\n",
    "    print([d for d in os.listdir(path) if os.path.isdir(os.path.join(path, d))])\n",
    "\n",
    "    print(\"\\nFiles:\")\n",
    "    print([f for f in os.listdir(path) if os.path.isfile(os.path.join(path, f))])\n",
    "\n",
    "    print(\"\\nAll contents:\")\n",
    "    print(os.listdir(path))\n",
    "\n",
    "path = input(\"Enter the path: \")\n",
    "list_contents(path)"
   ]
  },
  {
   "cell_type": "code",
   "execution_count": null,
   "metadata": {},
   "outputs": [],
   "source": [
    "#2\n",
    "import os\n",
    "\n",
    "def check_access(path):\n",
    "    print(f\"Path exists: {os.path.exists(path)}\")\n",
    "    print(f\"Readable: {os.access(path, os.R_OK)}\")\n",
    "    print(f\"Writable: {os.access(path, os.W_OK)}\")\n",
    "    print(f\"Executable: {os.access(path, os.X_OK)}\")\n",
    "\n",
    "path = input(\"Enter the path: \")\n",
    "check_access(path)"
   ]
  },
  {
   "cell_type": "code",
   "execution_count": null,
   "metadata": {},
   "outputs": [],
   "source": [
    "#3\n",
    "import os\n",
    "\n",
    "def check_path_info(path):\n",
    "    if os.path.exists(path):\n",
    "        print(\"Path exists!\")\n",
    "        print(f\"Directory: {os.path.dirname(path)}\")\n",
    "        print(f\"Filename: {os.path.basename(path)}\")\n",
    "    else:\n",
    "        print(\"Path does not exist.\")\n",
    "\n",
    "path = input(\"Enter the file path: \")\n",
    "check_path_info(path)"
   ]
  },
  {
   "cell_type": "code",
   "execution_count": null,
   "metadata": {},
   "outputs": [],
   "source": [
    "#4\n",
    "def count_lines(filename):\n",
    "    try:\n",
    "        with open(filename, 'r') as file:\n",
    "            lines = file.readlines()\n",
    "            print(f\"Number of lines: {len(lines)}\")\n",
    "    except FileNotFoundError:\n",
    "        print(\"File not found.\")\n",
    "\n",
    "filename = input(\"Enter the filename: \")\n",
    "count_lines(filename)"
   ]
  },
  {
   "cell_type": "code",
   "execution_count": null,
   "metadata": {},
   "outputs": [],
   "source": [
    "#5\n",
    "def write_list_to_file(filename, data_list):\n",
    "    with open(filename, 'w') as file:\n",
    "        for item in data_list:\n",
    "            file.write(str(item) + '\\n')\n",
    "    print(f\"List written to {filename}\")\n",
    "\n",
    "my_list = [\"Python\", \"is\", \"awesome!\"]\n",
    "filename = \"output.txt\"\n",
    "write_list_to_file(filename, my_list)"
   ]
  },
  {
   "cell_type": "code",
   "execution_count": null,
   "metadata": {},
   "outputs": [],
   "source": [
    "#6\n",
    "import string\n",
    "\n",
    "def generate_files():\n",
    "    for letter in string.ascii_uppercase:  # A-Z\n",
    "        filename = f\"{letter}.txt\"\n",
    "        with open(filename, 'w') as file:\n",
    "            file.write(f\"This is file {filename}\\n\")\n",
    "    print(\"26 text files created.\")\n",
    "\n",
    "generate_files()"
   ]
  },
  {
   "cell_type": "code",
   "execution_count": null,
   "metadata": {},
   "outputs": [],
   "source": [
    "#7\n",
    "def copy_file(source, destination):\n",
    "    try:\n",
    "        with open(source, 'r') as src, open(destination, 'w') as dest:\n",
    "            dest.write(src.read())\n",
    "        print(f\"Copied contents from {source} to {destination}\")\n",
    "    except FileNotFoundError:\n",
    "        print(\"Source file not found.\")\n",
    "\n",
    "source_file = input(\"Enter source file: \")\n",
    "destination_file = input(\"Enter destination file: \")\n",
    "copy_file(source_file, destination_file)"
   ]
  },
  {
   "cell_type": "code",
   "execution_count": null,
   "metadata": {},
   "outputs": [],
   "source": [
    "#8\n",
    "import os\n",
    "\n",
    "def delete_file(path):\n",
    "    if os.path.exists(path):\n",
    "        if os.access(path, os.W_OK):\n",
    "            os.remove(path)\n",
    "            print(f\"File {path} deleted.\")\n",
    "        else:\n",
    "            print(\"File is not writable, cannot delete.\")\n",
    "    else:\n",
    "        print(\"File does not exist.\")\n",
    "\n",
    "file_path = input(\"Enter file path to delete: \")\n",
    "delete_file(file_path)"
   ]
  }
 ],
 "metadata": {
  "language_info": {
   "name": "python"
  }
 },
 "nbformat": 4,
 "nbformat_minor": 2
}
