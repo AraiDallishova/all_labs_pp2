{
 "cells": [
  {
   "cell_type": "code",
   "execution_count": null,
   "metadata": {},
   "outputs": [],
   "source": [
    "#1.\n",
    "import re\n",
    "text = str(input(\"Enter string: \"))\n",
    "match = re.fullmatch(r'ab*',text)\n",
    "if match:\n",
    "    print(\"Yes, it matches\")\n",
    "else:\n",
    "    print(\"No, it doesn't match\")"
   ]
  },
  {
   "cell_type": "code",
   "execution_count": null,
   "metadata": {},
   "outputs": [],
   "source": [
    "#2.\n",
    "import re\n",
    "text = input(\"Enter a string: \")\n",
    "match = re.fullmatch(r'ab{2,3}', text)\n",
    "if match:\n",
    "    print(\"Yes, it matches\")\n",
    "else:\n",
    "    print(\"No, it doesn't match\")"
   ]
  },
  {
   "cell_type": "code",
   "execution_count": null,
   "metadata": {},
   "outputs": [],
   "source": [
    "#3.\n",
    "import re\n",
    "text = str(input(\"Enter a string joined with a underscore: \"))\n",
    "match = re.findall(r'[a-z]+_[a-z]+', text)\n",
    "if match:\n",
    "        print(f'Sequences found: {match}')\n",
    "else:\n",
    "        print('No sequences found.')"
   ]
  },
  {
   "cell_type": "code",
   "execution_count": null,
   "metadata": {},
   "outputs": [],
   "source": [
    "#4.\n",
    "import re\n",
    "text = str(input(\"Enter a string: \"))\n",
    "match = re.findall(r'[A-Z][a-z]+' , text)\n",
    "print(match)"
   ]
  },
  {
   "cell_type": "code",
   "execution_count": null,
   "metadata": {},
   "outputs": [],
   "source": [
    "#5.\n",
    "import re\n",
    "text = str(input(\"Enter a string: \"))\n",
    "match = re.search(r'a.*b',text)\n",
    "if match:\n",
    "    print(\"Yes, it matches\")\n",
    "else:\n",
    "    print(\"No, it doesn't match\")"
   ]
  },
  {
   "cell_type": "code",
   "execution_count": null,
   "metadata": {},
   "outputs": [],
   "source": [
    "#6.\n",
    "import re\n",
    "text = input(\"Enter some string: \")\n",
    "print(re.sub(r\"[ ,.]\", \":\", text))\n"
   ]
  },
  {
   "cell_type": "code",
   "execution_count": null,
   "metadata": {},
   "outputs": [],
   "source": [
    "#7.\n",
    "import re\n",
    "def to_upper(match):\n",
    "    return match.group(1).upper()\n",
    "text = input(\"Enter a snake case string: \")\n",
    "convert = re.sub(r\"_([a-z])\", to_upper, text)\n",
    "print(convert)"
   ]
  },
  {
   "cell_type": "code",
   "execution_count": null,
   "metadata": {},
   "outputs": [],
   "source": [
    "#8.\n",
    "import re\n",
    "text = input(\"string with uppercase letters: \")\n",
    "result = re.findall(r\"([A-Z][a-z]*)\", text)\n",
    "print(result)"
   ]
  },
  {
   "cell_type": "code",
   "execution_count": null,
   "metadata": {},
   "outputs": [],
   "source": [
    "#9.\n",
    "import re\n",
    "def to_split(match):\n",
    "    return \" \" + match.group(1)\n",
    "text = input(\"Enter string with uppercase letters: \")\n",
    "result = re.sub(r\"([A-Z])\", to_split, text)\n",
    "print(result)"
   ]
  },
  {
   "cell_type": "code",
   "execution_count": null,
   "metadata": {},
   "outputs": [],
   "source": [
    "#10.\n",
    "import re\n",
    "def to_snake(match):\n",
    "    return \"_\" + match.group(1).lower()\n",
    "text = input(\"Enter a camel case string: \")\n",
    "convert = re.sub(r\"([A-Z])\", to_snake, text)\n",
    "print(convert)"
   ]
  }
 ],
 "metadata": {
  "kernelspec": {
   "display_name": "Python 3",
   "language": "python",
   "name": "python3"
  },
  "language_info": {
   "codemirror_mode": {
    "name": "ipython",
    "version": 3
   },
   "file_extension": ".py",
   "mimetype": "text/x-python",
   "name": "python",
   "nbconvert_exporter": "python",
   "pygments_lexer": "ipython3",
   "version": "3.9.6"
  }
 },
 "nbformat": 4,
 "nbformat_minor": 2
}
